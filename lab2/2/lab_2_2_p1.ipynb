{
 "cells": [
  {
   "cell_type": "code",
   "execution_count": 6,
   "metadata": {},
   "outputs": [
    {
     "name": "stdout",
     "output_type": "stream",
     "text": [
      "Dta loss: 79.46%\n"
     ]
    }
   ],
   "source": [
    "import pandas as pd\n",
    "from sklearn.model_selection import train_test_split\n",
    "from sklearn.linear_model import LogisticRegression\n",
    "from sklearn.metrics import accuracy_score\n",
    "\n",
    "\n",
    "# Part 1\n",
    "url = \"../Titanic.csv\"\n",
    "df = pd.read_csv(url)\n",
    "\n",
    "# Ex1\n",
    "df_cleaned = df.dropna()\n",
    "cols_to_drop = ['Name', 'Ticket', 'Cabin', 'PassengerId']\n",
    "\n",
    "df_cleaned = df_cleaned.drop(cols_to_drop, axis=1)\n",
    "df_cleaned['Sex'] = df_cleaned['Sex'].map({'male': 0, 'female': 1})\n",
    "df_cleaned['Embarked'] = df_cleaned['Embarked'].map({'C': 1, 'Q': 2, 'S': 3})\n",
    "\n",
    "initial_rows = df.shape[0]\n",
    "final_rows = df_cleaned.shape[0]\n",
    "data_loss_percent = ((initial_rows - final_rows) / initial_rows) * 100\n",
    "print(f\"Dta loss: {data_loss_percent:.2f}%\")"
   ]
  },
  {
   "cell_type": "code",
   "execution_count": 5,
   "metadata": {},
   "outputs": [
    {
     "name": "stdout",
     "output_type": "stream",
     "text": [
      "Точность модели: 0.73\n",
      "Точность без Embarked: 0.73\n"
     ]
    }
   ],
   "source": [
    "# Ex2\n",
    "X = df_cleaned.drop('Survived', axis=1)\n",
    "y = df_cleaned['Survived']\n",
    "X_train, X_test, y_train, y_test = train_test_split(X, y, test_size=0.2, random_state=42)\n",
    "\n",
    "clf = LogisticRegression(max_iter=1000)\n",
    "clf.fit(X_train, y_train)\n",
    "\n",
    "y_pred = clf.predict(X_test)\n",
    "accuracy = accuracy_score(y_test, y_pred)\n",
    "print(f\"Model accuracy: {accuracy:.2f}\")\n",
    "\n",
    "X_no_embarked = X.drop('Embarked', axis=1)\n",
    "X_train_ne, X_test_ne, y_train_ne, y_test_ne = train_test_split(X_no_embarked, y, test_size=0.2, random_state=42)\n",
    "\n",
    "clf_ne = LogisticRegression(max_iter=1000)\n",
    "clf_ne.fit(X_train_ne, y_train_ne)\n",
    "\n",
    "y_pred_ne = clf_ne.predict(X_test_ne)\n",
    "accuracy_ne = accuracy_score(y_test_ne, y_pred_ne)\n",
    "print(f\"Model accuracy without Embarked: {accuracy_ne:.2f}\")"
   ]
  }
 ],
 "metadata": {
  "kernelspec": {
   "display_name": "Python 3",
   "language": "python",
   "name": "python3"
  },
  "language_info": {
   "codemirror_mode": {
    "name": "ipython",
    "version": 3
   },
   "file_extension": ".py",
   "mimetype": "text/x-python",
   "name": "python",
   "nbconvert_exporter": "python",
   "pygments_lexer": "ipython3",
   "version": "3.13.0"
  }
 },
 "nbformat": 4,
 "nbformat_minor": 2
}
